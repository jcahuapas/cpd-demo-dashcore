{
 "cells": [
  {
   "cell_type": "code",
   "execution_count": 1,
   "metadata": {},
   "outputs": [
    {
     "name": "stdout",
     "output_type": "stream",
     "text": [
      "<configparser.ConfigParser object at 0x000002055FD40D00>\n"
     ]
    }
   ],
   "source": [
    "from users_mgt import add_user,show_users\n",
    "#add_user('ejc_2885','Kinito2885','ejc_2885@hotmail.com',True)"
   ]
  },
  {
   "cell_type": "code",
   "execution_count": 2,
   "metadata": {},
   "outputs": [
    {
     "data": {
      "text/plain": [
       "[{'id': 1,\n",
       "  'username': 'usuario1',\n",
       "  'email': 'usuario1@example.com',\n",
       "  'admin': 'scrypt:32768:8:1$DCA0AJZUcFL6VIXq$4f50a8f65dc1ddce89a3686c93a875088bcd79ef83e4a9390fe6417b8f908670cf5c6f9cfc8d1c6d9355824be4e8e95c9901314f5414d5a51c37df3d0def9686'},\n",
       " {'id': 2,\n",
       "  'username': 'usuario2',\n",
       "  'email': 'usuario2@example.com',\n",
       "  'admin': 'scrypt:32768:8:1$PBXtOT24WZ6Jw8SU$7de442c0bf15fee1e92d7b5a664de63ecb5546c2fa99c1acdf17b6040115cf02287ea1afc1d208ae9c2bf8a8cc6fee6c6e6fc21568077000424b175f43b87d81'},\n",
       " {'id': 3,\n",
       "  'username': 'ejc_2885',\n",
       "  'email': 'ejc_2885@hotmail.com',\n",
       "  'admin': 'pbkdf2:sha256:600000$aaW0U4H14c6UBLpk$8202c68434253afd19be617e3127e18252ea192fba91e44bac2ec6227cdf5355'},\n",
       " {'id': 4,\n",
       "  'username': 'ejc_5555',\n",
       "  'email': 'ejc_5555@hotmail.com',\n",
       "  'admin': 'pbkdf2:sha256:600000$gJnEvLWjgOm4iVXE$40d29964c6154d55b8828fec445b173d76ed6362757a21b91c75e4b36801d2f3'}]"
      ]
     },
     "execution_count": 2,
     "metadata": {},
     "output_type": "execute_result"
    }
   ],
   "source": [
    "show_users()"
   ]
  },
  {
   "cell_type": "code",
   "execution_count": 3,
   "metadata": {},
   "outputs": [
    {
     "name": "stdout",
     "output_type": "stream",
     "text": [
      "/DASHBOARD/db/users.db\n",
      "sqlite:////DASHBOARD/db/users.db\n"
     ]
    }
   ],
   "source": [
    "import os\n",
    "\n",
    "db_location = os.environ.get(\"DB_LOCATION\", \"/DASHBOARD/db/users.db\")\n",
    "print(db_location)\n",
    "con = f\"sqlite:///{db_location}\"\n",
    "print(con)"
   ]
  },
  {
   "cell_type": "code",
   "execution_count": 4,
   "metadata": {},
   "outputs": [
    {
     "name": "stdout",
     "output_type": "stream",
     "text": [
      "Engine(sqlite:///./db/users.db)\n"
     ]
    }
   ],
   "source": [
    "from sqlalchemy import create_engine\n",
    "\n",
    "\n",
    "\n",
    "\n",
    "engine = create_engine('sqlite:///./db/users.db')\n",
    "\n",
    "print(engine)"
   ]
  },
  {
   "cell_type": "code",
   "execution_count": 3,
   "metadata": {},
   "outputs": [
    {
     "name": "stdout",
     "output_type": "stream",
     "text": [
      "Agregarndo Usuario\n",
      "username_in : ejc_5555\n",
      "INSERT INTO \"user\" (username, email, password, admin) VALUES (:username, :email, :password, :admin)\n",
      "Engine(sqlite:///users.db)\n",
      "Se inserto Reg\n"
     ]
    }
   ],
   "source": [
    "add_user('ejc_5555','Kinito5555','ejc_5555@hotmail.com',False)"
   ]
  },
  {
   "cell_type": "code",
   "execution_count": 7,
   "metadata": {},
   "outputs": [],
   "source": [
    "import sqlite3\n",
    "from sqlite3 import Error"
   ]
  },
  {
   "cell_type": "code",
   "execution_count": null,
   "metadata": {},
   "outputs": [],
   "source": [
    "from sqlalchemy import Table\n",
    "from sqlalchemy.sql import select\n",
    "from flask_sqlalchemy import SQLAlchemy\n",
    "from werkzeug.security import generate_password_hash\n",
    "from config import engine\n",
    "\n",
    "db = SQLAlchemy()\n",
    "\n",
    "\n",
    "class User(db.Model):\n",
    "    id = db.Column(db.Integer, primary_key=True)\n",
    "    username = db.Column(db.String(15), unique=True)\n",
    "    email = db.Column(db.String(50), unique=True)\n",
    "    password = db.Column(db.String(80))\n",
    "    admin = db.Column(db.Boolean)\n",
    "\n",
    "\n",
    "userTable = Table('user', User.metadata)\n",
    "\n",
    "\n",
    "def create_user_table():\n",
    "    User.metadata.create_all(engine)\n",
    "\n",
    "\n",
    "def add_user(username, password, email, admin):\n",
    "    hashed_password = generate_password_hash(password, method='pbkdf2:sha256')\n",
    "\n",
    "    insert_stmt = userTable.insert().values(\n",
    "        username=username, email=email, password=hashed_password, admin=admin\n",
    "    )\n",
    "    print(insert_stmt)\n",
    "    conn = engine.connect()\n",
    "    conn.execute(insert_stmt)\n",
    "    print('Se inserto Reg')\n",
    "    conn.close()\n",
    "\n",
    "\n",
    "def update_password(username, password):\n",
    "    hashed_password = generate_password_hash(password, method='pbkdf2:sha256')\n",
    "\n",
    "    update = userTable.update().\\\n",
    "        values(password=hashed_password).\\\n",
    "        where(userTable.c.username==username)\n",
    "\n",
    "    conn = engine.connect()\n",
    "    conn.execute(update)\n",
    "    conn.close()\n",
    "\n",
    "\n",
    "def show_users():\n",
    "    # select_stmt = select([userTable.c.id,\n",
    "    #                     userTable.c.username,\n",
    "    #                     userTable.c.email,\n",
    "    #                     userTable.c.admin])\n",
    "    \n",
    "    select_stmt = select(userTable)\n",
    "\n",
    "    conn = engine.connect()\n",
    "    results = conn.execute(select_stmt)\n",
    "\n",
    "    users = []\n",
    "\n",
    "    for result in results:\n",
    "        users.append({\n",
    "            'id' : result[0],\n",
    "            'username' : result[1],\n",
    "            'email' : result[2],\n",
    "            'admin' : str(result[3])\n",
    "        })\n",
    "\n",
    "    conn.close()\n",
    "\n",
    "    return users\n"
   ]
  },
  {
   "cell_type": "code",
   "execution_count": 8,
   "metadata": {},
   "outputs": [],
   "source": [
    "import configparser\n",
    "from sqlalchemy import create_engine\n",
    "\n",
    "config = configparser.ConfigParser()\n",
    "config.read('config.txt')\n",
    "\n",
    "engine = create_engine(config.get('database', 'con'))"
   ]
  },
  {
   "cell_type": "code",
   "execution_count": null,
   "metadata": {},
   "outputs": [],
   "source": [
    "conn = None\n",
    "try:\n",
    "    conn = sqlite3.connect(db_file)\n",
    "    return conn\n",
    "except Error as e:\n",
    "    print(e)\n",
    "\n",
    "return conn"
   ]
  },
  {
   "cell_type": "code",
   "execution_count": 9,
   "metadata": {},
   "outputs": [],
   "source": [
    "import sqlite3\n",
    "from sqlite3 import Error\n",
    "\n",
    "\n",
    "def create_connection(db_file):\n",
    "    \"\"\" create a database connection to the SQLite database\n",
    "        specified by db_file\n",
    "    :param db_file: database file\n",
    "    :return: Connection object or None\n",
    "    \"\"\"\n",
    "    conn = None\n",
    "    try:\n",
    "        conn = sqlite3.connect(db_file)\n",
    "        return conn\n",
    "    except Error as e:\n",
    "        print(e)\n",
    "\n",
    "    return conn"
   ]
  },
  {
   "cell_type": "code",
   "execution_count": 10,
   "metadata": {},
   "outputs": [
    {
     "name": "stdout",
     "output_type": "stream",
     "text": [
      "Hay Conexion\n"
     ]
    }
   ],
   "source": [
    "database = r\"D:\\\\00.MBD_Analytics\\\\DEMO\\\\dashboard\\\\users.db\"\n",
    "\n",
    "\n",
    "# create a database connection\n",
    "conn = create_connection(database)\n",
    "# create tables\n",
    "if conn is not None:\n",
    "    # create projects table\n",
    "    print(\"Hay Conexion\")\n",
    "else:\n",
    "    print(\"Error! cannot create the database connection.\")"
   ]
  },
  {
   "cell_type": "code",
   "execution_count": 26,
   "metadata": {},
   "outputs": [
    {
     "name": "stdout",
     "output_type": "stream",
     "text": [
      "<SQLAlchemy>\n",
      "Engine(sqlite:///users.db)\n",
      "<sqlalchemy.engine.base.Connection object at 0x000002D3EF8E7100>\n"
     ]
    }
   ],
   "source": [
    "from config import engine\n",
    "\n",
    "\n",
    "\n",
    "#[database]\n",
    "con = 'sqlite:///D:/00.MBD_Analytics/DEMO/dashboard/users.db'\n",
    "\n",
    "import configparser\n",
    "from sqlalchemy import create_engine\n",
    "\n",
    "config = configparser.ConfigParser()\n",
    "config.read('config.txt')\n",
    "print(config)\n",
    "\n",
    "engine = create_engine(config.get('database', 'con'))\n",
    "\n",
    "db = SQLAlchemy()\n",
    "print(db)\n",
    "conn = engine.connect()\n",
    "print(engine)\n",
    "print(conn)\n",
    "\n",
    "#database = r\"D:\\\\00.MBD_Analytics\\\\DEMO\\\\dashboard\\\\users.db\"\n",
    "class User(db.Model):\n",
    "    id = db.Column(db.Integer, primary_key=True)\n",
    "    username = db.Column(db.String(15), unique=True)\n",
    "    email = db.Column(db.String(50), unique=True)\n",
    "    password = db.Column(db.String(80))\n",
    "    admin = db.Column(db.Boolean)\n",
    "\n",
    "\n",
    "userTable = Table('user', User.metadata)\n",
    "\n",
    "def add_user(username, password, email, admin):\n",
    "    hashed_password = generate_password_hash(password, method='pbkdf2:sha256')\n",
    "\n",
    "    insert_stmt = userTable.insert().values(\n",
    "        username=username, email=email, password=hashed_password, admin=admin\n",
    "    )\n",
    "    print(insert_stmt)\n",
    "    conn = engine.connect()\n",
    "    conn.execute(insert_stmt)\n",
    "    print('Se inserto Reg')\n",
    "    conn.close()\n",
    "    \n",
    "def show_users():\n",
    "    # select_stmt = select([userTable.c.id,\n",
    "    #                     userTable.c.username,\n",
    "    #                     userTable.c.email,\n",
    "    #                     userTable.c.admin])\n",
    "    \n",
    "    select_stmt = select(userTable)\n",
    "\n",
    "    conn = engine.connect()\n",
    "    results = conn.execute(select_stmt)\n",
    "\n",
    "    users = []\n",
    "\n",
    "    for result in results:\n",
    "        users.append({\n",
    "            'id' : result[0],\n",
    "            'username' : result[1],\n",
    "            'email' : result[2],\n",
    "            'admin' : str(result[3])\n",
    "        })\n",
    "\n",
    "    conn.close()\n",
    "\n",
    "    return users"
   ]
  },
  {
   "cell_type": "code",
   "execution_count": 20,
   "metadata": {},
   "outputs": [
    {
     "name": "stdout",
     "output_type": "stream",
     "text": [
      "INSERT INTO \"user\" (username, email, password, admin) VALUES (:username, :email, :password, :admin)\n",
      "Se inserto Reg\n"
     ]
    }
   ],
   "source": [
    "add_user('ejc_2885','Kinito2885','ejc_2885@hotmail.com',True)"
   ]
  },
  {
   "cell_type": "code",
   "execution_count": 22,
   "metadata": {},
   "outputs": [
    {
     "data": {
      "text/plain": [
       "[]"
      ]
     },
     "execution_count": 22,
     "metadata": {},
     "output_type": "execute_result"
    }
   ],
   "source": [
    "show_users()"
   ]
  },
  {
   "cell_type": "code",
   "execution_count": 5,
   "metadata": {},
   "outputs": [
    {
     "name": "stdout",
     "output_type": "stream",
     "text": [
      "sqlite:///D:/00.MBD_Analytics/DEMO/dashboard/users.db\n",
      "Engine(sqlite:///D:/00.MBD_Analytics/DEMO/dashboard/users.db)\n"
     ]
    }
   ],
   "source": [
    "import configparser\n",
    "from sqlalchemy import create_engine\n",
    "\n",
    "config = configparser.ConfigParser()\n",
    "config.read('config.txt')\n",
    "print(config.get('database', 'con'))\n",
    "\n",
    "engine = create_engine(config.get('database', 'con'))\n",
    "\n",
    "print(engine)"
   ]
  },
  {
   "cell_type": "code",
   "execution_count": 4,
   "metadata": {},
   "outputs": [
    {
     "name": "stdout",
     "output_type": "stream",
     "text": [
      "['config.txt']\n",
      "Engine(sqlite:///D:/00.MBD_Analytics/DEMO/dashboard/users.db)\n"
     ]
    }
   ],
   "source": [
    "import configparser\n",
    "from sqlalchemy import create_engine\n",
    "\n",
    "config = configparser.ConfigParser()\n",
    "config.read('config.txt')\n",
    "print(config.read('config.txt'))\n",
    "\n",
    "engine = create_engine(config.get('database', 'con'))\n",
    "\n",
    "print(engine)"
   ]
  },
  {
   "cell_type": "code",
   "execution_count": null,
   "metadata": {},
   "outputs": [],
   "source": [
    "database = r\"D:\\\\00.MBD_Analytics\\\\DEMO\\\\dashboard\\\\users.db\"\n",
    "\n",
    "\n",
    "    sql_create_users_table = \"\"\" CREATE TABLE IF NOT EXISTS user (\n",
    "                                        id integer PRIMARY KEY,\n",
    "                                        username text NOT NULL,\n",
    "                                        email text NOT NULL,\n",
    "                                        password text NOT NULL,                                        \n",
    "                                        admin integer\n",
    "                                    ); \"\"\"\n",
    "\n",
    "    # create a database connection\n",
    "    conn = create_connection(database)\n",
    "\n",
    "    # create tables\n",
    "    if conn is not None:\n",
    "        # create projects table\n",
    "        create_table(conn, sql_create_users_table)\n",
    "    else:\n",
    "        print(\"Error! cannot create the database connection.\")"
   ]
  },
  {
   "cell_type": "code",
   "execution_count": 7,
   "metadata": {},
   "outputs": [
    {
     "name": "stdout",
     "output_type": "stream",
     "text": [
      "Engine(sqlite:///D:/00.MBD_Analytics/DEMO/dashboard/users.db)\n",
      "<sqlalchemy.engine.cursor.CursorResult object at 0x0000025FCFE44D60>\n",
      "[]\n"
     ]
    }
   ],
   "source": [
    "from sqlalchemy import create_engine, Table, Column, Integer, String, MetaData\n",
    "\n",
    "from sqlalchemy import Table\n",
    "from sqlalchemy.sql import select\n",
    "from flask_sqlalchemy import SQLAlchemy\n",
    "from werkzeug.security import generate_password_hash\n",
    "from config import engine\n",
    "# Crear una conexión a la base de datos (si no existe, la creará automáticamente)\n",
    "db_path = \"sqlite:///D:/00.MBD_Analytics/DEMO/dashboard/users.db\"\n",
    "engine = create_engine(db_path)\n",
    "\n",
    "db = SQLAlchemy()\n",
    "\n",
    "\n",
    "class User(db.Model):\n",
    "    id = db.Column(db.Integer, primary_key=True)\n",
    "    username = db.Column(db.String(15), unique=True)\n",
    "    email = db.Column(db.String(50), unique=True)\n",
    "    password = db.Column(db.String(80))\n",
    "    admin = db.Column(db.Boolean)\n",
    "\n",
    "\n",
    "userTable = Table('user', User.metadata)\n",
    "\n",
    "print(engine)\n",
    "\n",
    "# Realizar una consulta\n",
    "with engine.connect() as connection:\n",
    "    connection.execute(userTable.insert().values(username='usuario1', email='usuario1@example.com', password='clave1', admin=False))\n",
    "    connection.execute(userTable.insert().values(username='usuario2', email='usuario2@example.com', password='clave2', admin=False))\n",
    "    \n",
    "with engine.connect() as connection:\n",
    "    result = connection.execute(userTable.select())\n",
    "    print(result)\n",
    "    rows = result.fetchall()\n",
    "\n",
    "print(rows)\n",
    "# Imprimir los resultados\n",
    "for row in rows:\n",
    "    print(row)"
   ]
  },
  {
   "cell_type": "code",
   "execution_count": 1,
   "metadata": {},
   "outputs": [
    {
     "ename": "ModuleNotFoundError",
     "evalue": "No module named 'tu_aplicacion'",
     "output_type": "error",
     "traceback": [
      "\u001b[1;31m---------------------------------------------------------------------------\u001b[0m",
      "\u001b[1;31mModuleNotFoundError\u001b[0m                       Traceback (most recent call last)",
      "Cell \u001b[1;32mIn[1], line 1\u001b[0m\n\u001b[1;32m----> 1\u001b[0m \u001b[38;5;28;01mfrom\u001b[39;00m \u001b[38;5;21;01mtu_aplicacion\u001b[39;00m \u001b[38;5;28;01mimport\u001b[39;00m db\n\u001b[0;32m      3\u001b[0m \u001b[38;5;28;01mwith\u001b[39;00m app\u001b[38;5;241m.\u001b[39mapp_context():\n\u001b[0;32m      4\u001b[0m     db\u001b[38;5;241m.\u001b[39mcreate_all()\n",
      "\u001b[1;31mModuleNotFoundError\u001b[0m: No module named 'tu_aplicacion'"
     ]
    }
   ],
   "source": [
    "from tu_aplicacion import db\n",
    "\n",
    "with app.app_context():\n",
    "    db.create_all()"
   ]
  }
 ],
 "metadata": {
  "kernelspec": {
   "display_name": "Python 3",
   "language": "python",
   "name": "python3"
  },
  "language_info": {
   "codemirror_mode": {
    "name": "ipython",
    "version": 3
   },
   "file_extension": ".py",
   "mimetype": "text/x-python",
   "name": "python",
   "nbconvert_exporter": "python",
   "pygments_lexer": "ipython3",
   "version": "3.8.5"
  }
 },
 "nbformat": 4,
 "nbformat_minor": 4
}
